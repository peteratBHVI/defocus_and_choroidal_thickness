{
 "cells": [
  {
   "cell_type": "code",
   "execution_count": 11,
   "metadata": {},
   "outputs": [],
   "source": [
    "\"\"\" \n",
    "Author: p.wagner@bhvi.org / p.wagner@unsw.edu.au \n",
    "image registration of anterior segment projection from several scans \n",
    "\n",
    "Credits: https://pypi.org/project/pystackreg/ \n",
    "\n",
    "Usage: creat gif for visual assesment of projection of anterior segment of the eye \n",
    "\n",
    "\"\"\"\n",
    "import pandas as pd\n",
    "import os.path\n",
    "from pystackreg import StackReg\n",
    "from skimage import io\n",
    "import sys\n",
    "sys.path.append(r'C:\\Users\\p.wagner\\Documents\\Python Scripts\\oct_data_analyses_helpers')\n",
    "from oct_helpers_lib import OctDataAccess as get_px_meta\n"
   ]
  },
  {
   "cell_type": "code",
   "execution_count": 12,
   "metadata": {},
   "outputs": [],
   "source": [
    "path_oct = r'E:\\studyIII\\OCT_data'\n",
    "path_logbook = r'C:\\Users\\p.wagner\\Documents\\phd\\stud_III\\participants'\n",
    "fn_logbook = 'participant_log_studyIII_V0.2.xlsx' \n",
    "fp_fn_logbook = os.path.join(path_logbook, fn_logbook)\n",
    "\n",
    "# check if path_oct is available \n",
    "if not os.path.isdir(path_oct):\n",
    "    print('OCT data path NOT available')"
   ]
  },
  {
   "cell_type": "code",
   "execution_count": 15,
   "metadata": {},
   "outputs": [
    {
     "name": "stdout",
     "output_type": "stream",
     "text": [
      "finished\n"
     ]
    }
   ],
   "source": [
    "# create gif for visual assessment \n",
    "import cv2\n",
    "import glob\n",
    "from PIL import Image\n",
    "\n",
    "# one px at a time only \n",
    "# 1, 2, 3, 4, 5, 7, 8, 9, 10, 12, 13, 14, 15, 16, 17, 18, 20, 23, 26, \n",
    "\n",
    "px_ids = [11, ]\n",
    "OD_scans_types = ['OCT_initial_OD', 'OCT_post_OD',]\n",
    "OS_scans_types = [ 'OCT_initial_OS', 'OCT_post_OS',]\n",
    "\n",
    "px_details = get_px_meta(fp_fn_logbook, px_ids, OD_scans_types, path_oct)\n",
    "thickness_csv = 'DEFAULT_3D_All_Thickness.csv'\n",
    "oct_data_fn_fp = os.path.join(px_details.subject_rec_fp[0], thickness_csv)\n",
    "oct_thicness_data_all = pd.read_csv(oct_data_fn_fp, dtype=str, names=list(range(0,513, 1)), low_memory=False)\n",
    "\n",
    "\n",
    "def get_quality(df, scan_number):\n",
    "    data_no_col_idx = df.loc[0, :].index[df.loc[0, :].values == 'Data No.'][0]\n",
    "    idx = df.iloc[:, data_no_col_idx][df.iloc[:, data_no_col_idx].values == str(scan_number)].index[0]\n",
    "    quality_col_idx = df.loc[0, :].index[df.loc[0, :].values == 'TopQ Image Quality'][0]\n",
    "    return df.iloc[idx, quality_col_idx]\n",
    "\n",
    "\n",
    "def creat_gif(px_meta, fp_out, eye_id):\n",
    "    fp_images = []\n",
    "    for idx, fp in enumerate(px_meta.oct_scans_fp):\n",
    "        tif_img = cv2.imread(os.path.join(fp, 'segmentation_z_projection_RBT_from_tif.png'))\n",
    "        # insert text on images here        \n",
    "        font = cv2.FONT_HERSHEY_SIMPLEX\n",
    "        cv2.putText(tif_img, px_details.subject_ids[0] + \", \" +\n",
    "                    eye_id + \", \" + str(px_meta.oct_scans_ids[idx]) + ' scan quality: ' +\n",
    "                    get_quality(oct_thicness_data_all, px_meta.oct_scans_ids[idx]), \n",
    "                    (3, 20), font, .5, (0, 0, 0), 1, cv2.LINE_AA)\n",
    "        # wirte to new file \n",
    "        cv2.imwrite(os.path.join(fp, 'segmentation_z_projection_gif_RBT_from_tif.png'), tif_img)\n",
    "        # list all new files \n",
    "        fp_images.append(os.path.join(fp, 'segmentation_z_projection_gif_RBT_from_tif.png'))\n",
    "\n",
    "        \n",
    "    img, *imgs = [Image.open(f) for f in fp_images]    \n",
    "    img.save(fp=fp_out, format='GIF', append_images=imgs,\n",
    "         save_all=True, duration=600, loop=0)\n",
    "\n",
    "# exexute for OD\n",
    "px_meta = get_px_meta(fp_fn_logbook, px_ids, OD_scans_types, path_oct)\n",
    "fp_out = os.path.join(px_meta.subject_rec_fp[0], 'OD_gif_600_RBT_from_tif_2.gif')\n",
    "creat_gif(px_meta, fp_out, 'OD')\n",
    "\n",
    "# exexute for OS\n",
    "px_meta = get_px_meta(fp_fn_logbook, px_ids, OS_scans_types, path_oct)\n",
    "fp_out = os.path.join(px_meta.subject_rec_fp[0], 'OS_gif_600_RBT_from_tif_2.gif')\n",
    "creat_gif(px_meta, fp_out, 'OS')\n",
    "\n",
    "print('finished')   "
   ]
  },
  {
   "cell_type": "code",
   "execution_count": 10,
   "metadata": {},
   "outputs": [
    {
     "data": {
      "text/plain": [
       "['44011', '44012', '44013', '44014', '44030', '44031', '44032', '44033']"
      ]
     },
     "execution_count": 10,
     "metadata": {},
     "output_type": "execute_result"
    }
   ],
   "source": [
    "px_meta.oct_scans_ids"
   ]
  },
  {
   "cell_type": "code",
   "execution_count": 6,
   "metadata": {},
   "outputs": [
    {
     "ename": "NameError",
     "evalue": "name 'px_meta' is not defined",
     "output_type": "error",
     "traceback": [
      "\u001b[1;31m---------------------------------------------------------------------------\u001b[0m",
      "\u001b[1;31mNameError\u001b[0m                                 Traceback (most recent call last)",
      "\u001b[1;32m<ipython-input-6-6a5c36481945>\u001b[0m in \u001b[0;36m<module>\u001b[1;34m\u001b[0m\n\u001b[0;32m      6\u001b[0m \u001b[0mfont\u001b[0m \u001b[1;33m=\u001b[0m \u001b[0mcv2\u001b[0m\u001b[1;33m.\u001b[0m\u001b[0mFONT_HERSHEY_SIMPLEX\u001b[0m\u001b[1;33m\u001b[0m\u001b[1;33m\u001b[0m\u001b[0m\n\u001b[0;32m      7\u001b[0m cv2.putText(tif_img, \n\u001b[1;32m----> 8\u001b[1;33m             \u001b[0meye_id\u001b[0m \u001b[1;33m+\u001b[0m \u001b[1;34m\", \"\u001b[0m \u001b[1;33m+\u001b[0m \u001b[0mstr\u001b[0m\u001b[1;33m(\u001b[0m\u001b[0mpx_meta\u001b[0m\u001b[1;33m.\u001b[0m\u001b[0moct_scans_ids\u001b[0m\u001b[1;33m[\u001b[0m\u001b[0midx\u001b[0m\u001b[1;33m]\u001b[0m\u001b[1;33m)\u001b[0m \u001b[1;33m+\u001b[0m \u001b[1;34m' scan quality: '\u001b[0m \u001b[1;33m+\u001b[0m\u001b[1;33m\u001b[0m\u001b[1;33m\u001b[0m\u001b[0m\n\u001b[0m\u001b[0;32m      9\u001b[0m             \u001b[0mget_quality\u001b[0m\u001b[1;33m(\u001b[0m\u001b[0moct_thicness_data_all\u001b[0m\u001b[1;33m,\u001b[0m \u001b[0mpx_meta\u001b[0m\u001b[1;33m.\u001b[0m\u001b[0moct_scans_ids\u001b[0m\u001b[1;33m[\u001b[0m\u001b[0midx\u001b[0m\u001b[1;33m]\u001b[0m\u001b[1;33m)\u001b[0m\u001b[1;33m,\u001b[0m\u001b[1;33m\u001b[0m\u001b[1;33m\u001b[0m\u001b[0m\n\u001b[0;32m     10\u001b[0m             (3, 20), font, .5, (0, 0, 0), 1, cv2.LINE_AA)\n",
      "\u001b[1;31mNameError\u001b[0m: name 'px_meta' is not defined"
     ]
    }
   ],
   "source": [
    "idx = 0\n",
    "eye_id = ' OD'\n",
    "fp = r'E:\\studyIII\\OCT_data\\E0F1\\44096'\n",
    "tif_img = cv2.imread(os.path.join(fp, 'segmentation_z_projection.png'))\n",
    "        # insert text on images here        \n",
    "font = cv2.FONT_HERSHEY_SIMPLEX\n",
    "cv2.putText(tif_img, \n",
    "            eye_id + \", \" + str(px_meta.oct_scans_ids[idx]) + ' scan quality: ' +\n",
    "            get_quality(oct_thicness_data_all, px_meta.oct_scans_ids[idx]), \n",
    "            (3, 20), font, .5, (0, 0, 0), 1, cv2.LINE_AA)\n",
    "        # wirte to new file \n",
    "cv2.imwrite(os.path.join(fp, 'segmentation_z_projection_2.png'), tif_img)"
   ]
  },
  {
   "cell_type": "code",
   "execution_count": 4,
   "metadata": {},
   "outputs": [
    {
     "data": {
      "text/plain": [
       "'56.10'"
      ]
     },
     "execution_count": 4,
     "metadata": {},
     "output_type": "execute_result"
    }
   ],
   "source": [
    "get_px_meta.get_quality(_, oct_thicness_data_all, '44266' )"
   ]
  },
  {
   "cell_type": "code",
   "execution_count": null,
   "metadata": {},
   "outputs": [],
   "source": []
  }
 ],
 "metadata": {
  "kernelspec": {
   "display_name": "Python 3",
   "language": "python",
   "name": "python3"
  },
  "language_info": {
   "codemirror_mode": {
    "name": "ipython",
    "version": 3
   },
   "file_extension": ".py",
   "mimetype": "text/x-python",
   "name": "python",
   "nbconvert_exporter": "python",
   "pygments_lexer": "ipython3",
   "version": "3.7.3"
  }
 },
 "nbformat": 4,
 "nbformat_minor": 2
}
